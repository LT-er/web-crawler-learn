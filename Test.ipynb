{
 "cells": [
  {
   "cell_type": "markdown",
   "id": "75a959cb",
   "metadata": {},
   "source": [
    "* Ctrl + Enter 运行单元格\n",
    "* 在编辑和命令模式之间切换，分别使用 Esc 和 Enter。\n",
    "* 在命令行模式下：\n",
    "* 用 Up 和 Down 键向上和向下滚动你的单元格。\n",
    "* 按 A 或 B 在活动单元上方或下方插入一个新单元。\n",
    "* M 将会将活动单元格转换为 Markdown 单元格。\n",
    "* Y 将激活的单元格设置为一个代码单元格。\n",
    "* D + D(按两次 D)将删除活动单元格。\n",
    "* Z将撤销单元格删除。 * 按住 Shift，同时按 Up 或 Down ，一次选择多个单元格。\n",
    "* 选择了 multple，Shift + M 将合并你的选择。\n",
    "* Ctrl + Shift + -，在编辑模式下，将在光标处拆分活动单元格。\n",
    "* 你也可以在你的单元格的左边用 Shift + Click 来选择它们。\n",
    "* ctrl 复制光标\n",
    "* 星号，加号，减号标识无序列表\n",
    "* 数字 + 英文句号 + 空格 + 列表内容 有序列表\n",
    "* ！是在命令行里运行"
   ]
  },
  {
   "cell_type": "markdown",
   "id": "94396e50",
   "metadata": {},
   "source": [
    "每个 notebook 后台都运行一个内核。当你运行一个代码单元时，该代码在内核中执行，任何输出都会返回到要显示的单元格。在单元格间切换时内核的状态保持不变 —— 它与文档有关，而不是单个的单元格。"
   ]
  },
  {
   "cell_type": "code",
   "execution_count": null,
   "id": "88f15a8b",
   "metadata": {},
   "outputs": [],
   "source": [
    "import numpy as np\n",
    "\n",
    "def square(x):\n",
    "    return x * x"
   ]
  },
  {
   "cell_type": "markdown",
   "id": "165b0c51",
   "metadata": {},
   "source": [
    "一旦我们执行了上面的单元格，我们就可以在任何其他单元中引用 np和 square。"
   ]
  },
  {
   "cell_type": "code",
   "execution_count": 1,
   "id": "cf9c980c",
   "metadata": {},
   "outputs": [],
   "source": [
    "def square(x):\n",
    "    return x * x"
   ]
  },
  {
   "cell_type": "code",
   "execution_count": null,
   "id": "482ed300",
   "metadata": {},
   "outputs": [],
   "source": [
    "import urllib.request\n",
    "response = urllib.request.urlopen('https://www.python.org')\n",
    "print(response.read().decode('utf-8'))"
   ]
  }
 ],
 "metadata": {
  "kernelspec": {
   "display_name": "Python 3 (ipykernel)",
   "language": "python",
   "name": "python3"
  },
  "language_info": {
   "codemirror_mode": {
    "name": "ipython",
    "version": 3
   },
   "file_extension": ".py",
   "mimetype": "text/x-python",
   "name": "python",
   "nbconvert_exporter": "python",
   "pygments_lexer": "ipython3",
   "version": "3.9.7"
  }
 },
 "nbformat": 4,
 "nbformat_minor": 5
}
